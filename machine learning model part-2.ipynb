{
 "cells": [
  {
   "cell_type": "code",
   "execution_count": 1,
   "id": "b84fb309-308e-4ddb-9269-147a6b35779a",
   "metadata": {},
   "outputs": [],
   "source": [
    "import pandas as pd\n",
    "df=pd.read_csv(\"loan_data_set.csv\")"
   ]
  },
  {
   "cell_type": "code",
   "execution_count": 3,
   "id": "c5f8c227-9bf8-49ea-891a-f28947511d88",
   "metadata": {},
   "outputs": [
    {
     "data": {
      "text/plain": [
       "Loan_ID               0\n",
       "Gender               13\n",
       "Married               3\n",
       "Dependents           15\n",
       "Education             0\n",
       "Self_Employed        32\n",
       "ApplicantIncome       0\n",
       "CoapplicantIncome     0\n",
       "LoanAmount           22\n",
       "Loan_Amount_Term     14\n",
       "Credit_History       50\n",
       "Property_Area         0\n",
       "Loan_Status           0\n",
       "dtype: int64"
      ]
     },
     "execution_count": 3,
     "metadata": {},
     "output_type": "execute_result"
    }
   ],
   "source": [
    "df.isnull().sum()"
   ]
  },
  {
   "cell_type": "code",
   "execution_count": 5,
   "id": "db39750a-4218-47fe-b20c-dec81530a0e8",
   "metadata": {},
   "outputs": [
    {
     "name": "stderr",
     "output_type": "stream",
     "text": [
      "C:\\Users\\DELL\\AppData\\Local\\Temp\\ipykernel_12120\\3251275850.py:1: FutureWarning: DataFrame.fillna with 'method' is deprecated and will raise in a future version. Use obj.ffill() or obj.bfill() instead.\n",
      "  df.fillna(method=\"ffill\",inplace=True)\n",
      "C:\\Users\\DELL\\AppData\\Local\\Temp\\ipykernel_12120\\3251275850.py:2: FutureWarning: DataFrame.fillna with 'method' is deprecated and will raise in a future version. Use obj.ffill() or obj.bfill() instead.\n",
      "  df.fillna(method=\"bfill\",inplace=True)\n"
     ]
    }
   ],
   "source": [
    "df.fillna(method=\"ffill\",inplace=True)\n",
    "df.fillna(method=\"bfill\",inplace=True)"
   ]
  },
  {
   "cell_type": "code",
   "execution_count": 7,
   "id": "1332191c-cc16-4538-b307-4613148d7fc4",
   "metadata": {},
   "outputs": [],
   "source": [
    "df1=pd.get_dummies(df,columns=[\"Gender\",\"Married\",\"Dependents\",\"Education\",\"Self_Employed\",\"Property_Area\",\"Loan_Status\"])"
   ]
  },
  {
   "cell_type": "code",
   "execution_count": 9,
   "id": "562e306b-836b-40ff-811f-0695b83e3114",
   "metadata": {},
   "outputs": [],
   "source": [
    "df1.dtypes\n",
    "df1.drop(\"Gender_Female\",axis=1,inplace=True)\n",
    "df1.drop(\"Married_No\",axis=1,inplace=True)\n",
    "df1.drop(\"Education_Graduate\",axis=1,inplace=True)\n",
    "df1.drop(\"Self_Employed_No\",axis=1,inplace=True)\n",
    "df1.drop(\"Property_Area_Rural\",axis=1,inplace=True)\n",
    "df1.drop(\"Loan_Status_N\",axis=1,inplace=True)\n",
    "df1.drop(\"Dependents_3+\",axis=1,inplace=True)"
   ]
  },
  {
   "cell_type": "code",
   "execution_count": 11,
   "id": "bb263ca9-24ff-47a8-84f8-4d3f3c69658d",
   "metadata": {},
   "outputs": [],
   "source": [
    "x=df1.iloc[:,2:15]\n",
    "y=df1.iloc[:,-1]"
   ]
  },
  {
   "cell_type": "code",
   "execution_count": 13,
   "id": "70515814-6c70-4a13-b56e-42661f2cb12d",
   "metadata": {},
   "outputs": [],
   "source": [
    "from sklearn.model_selection import train_test_split\n",
    "x_train,x_test,y_train,y_test=train_test_split(x,y,test_size=0.25,random_state=(0))\n"
   ]
  },
  {
   "cell_type": "code",
   "execution_count": 14,
   "id": "9bcc3a02-402f-4e80-aeff-1272a97f9aae",
   "metadata": {},
   "outputs": [],
   "source": [
    "\n",
    "from sklearn.linear_model import LogisticRegression\n",
    "m1=LogisticRegression()\n",
    "m1.fit(x_train, y_train)\n",
    "y_pred=m1.predict(x_test)"
   ]
  },
  {
   "cell_type": "code",
   "execution_count": 17,
   "id": "37f471d3-b578-4dae-80d3-3762fb5607db",
   "metadata": {},
   "outputs": [
    {
     "name": "stdout",
     "output_type": "stream",
     "text": [
      "0.8506493506493507\n",
      "[[ 23  20]\n",
      " [  3 108]]\n"
     ]
    }
   ],
   "source": [
    "from sklearn.metrics import accuracy_score,confusion_matrix\n",
    "acc=accuracy_score(y_test, y_pred)\n",
    "c=confusion_matrix(y_test,y_pred)\n",
    "print(acc)\n",
    "print(c)"
   ]
  },
  {
   "cell_type": "code",
   "execution_count": null,
   "id": "2a40cdd7-6cb2-4b7c-b1c9-8808fd3c236b",
   "metadata": {},
   "outputs": [],
   "source": []
  }
 ],
 "metadata": {
  "kernelspec": {
   "display_name": "Python 3 (ipykernel)",
   "language": "python",
   "name": "python3"
  },
  "language_info": {
   "codemirror_mode": {
    "name": "ipython",
    "version": 3
   },
   "file_extension": ".py",
   "mimetype": "text/x-python",
   "name": "python",
   "nbconvert_exporter": "python",
   "pygments_lexer": "ipython3",
   "version": "3.11.7"
  }
 },
 "nbformat": 4,
 "nbformat_minor": 5
}
